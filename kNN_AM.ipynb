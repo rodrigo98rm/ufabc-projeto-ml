{
 "cells": [
  {
   "cell_type": "code",
   "execution_count": 1,
   "metadata": {},
   "outputs": [],
   "source": [
    "import pandas as pd\n",
    "from sklearn.preprocessing import StandardScaler\n",
    "from sklearn.neighbors import KNeighborsClassifier\n",
    "from sklearn.metrics import classification_report, confusion_matrix\n",
    "from sklearn.utils import shuffle\n",
    "from sklearn.metrics import classification_report, confusion_matrix\n",
    "\n",
    "import numpy as np\n",
    "import matplotlib.pyplot as plt\n",
    "from sklearn.model_selection import train_test_split\n",
    "from sklearn.preprocessing import OneHotEncoder\n",
    "\n",
    "#sampling\n",
    "from imblearn.under_sampling import NearMiss\n",
    "from imblearn.over_sampling import SMOTE\n"
   ]
  },
  {
   "cell_type": "code",
   "execution_count": 2,
   "metadata": {},
   "outputs": [],
   "source": [
    "# importa dataset\n",
    "df = pd.read_csv (r'/Users/tthia/Desktop/healthcare-dataset-stroke-data.csv')"
   ]
  },
  {
   "cell_type": "code",
   "execution_count": 3,
   "metadata": {
    "scrolled": false
   },
   "outputs": [
    {
     "data": {
      "text/plain": [
       "209"
      ]
     },
     "execution_count": 3,
     "metadata": {},
     "output_type": "execute_result"
    }
   ],
   "source": [
    "# retira os valores NaN de BMI (unica coluna com NaN)\n",
    "df = df.loc[df['bmi'].notnull()]\n",
    "df.head()\n",
    "\n",
    "len(df.loc[df['stroke']==1])"
   ]
  },
  {
   "cell_type": "code",
   "execution_count": 4,
   "metadata": {},
   "outputs": [],
   "source": [
    "# converter colunas de texto para tipo categorico devido não ser possível gerar o modelo com valores de texto\n",
    "df['gender']         = df['gender'].astype('category')\n",
    "df['ever_married']   = df['ever_married'].astype('category')\n",
    "df['work_type']      = df['work_type'].astype('category')\n",
    "df['Residence_type'] = df['Residence_type'].astype('category')\n",
    "df['smoking_status'] = df['smoking_status'].astype('category')"
   ]
  },
  {
   "cell_type": "code",
   "execution_count": 5,
   "metadata": {},
   "outputs": [],
   "source": [
    "# adiciona valores númericos para as colunas categorizadas \n",
    "df['gender']         =df['gender'].astype('category').cat.codes\n",
    "df['ever_married']   =df['ever_married'].astype('category').cat.codes\n",
    "df['work_type']      =df['work_type'].astype('category').cat.codes\n",
    "df['Residence_type'] =df['Residence_type'].astype('category').cat.codes\n",
    "df['smoking_status'] =df['smoking_status'].astype('category').cat.codes"
   ]
  },
  {
   "cell_type": "code",
   "execution_count": 6,
   "metadata": {
    "scrolled": true
   },
   "outputs": [
    {
     "name": "stdout",
     "output_type": "stream",
     "text": [
      "Predicted    0  1  All\n",
      "True                  \n",
      "0          934  7  941\n",
      "1           41  0   41\n",
      "All        975  7  982\n",
      "              precision    recall  f1-score   support\n",
      "\n",
      "           0       0.96      0.99      0.97       941\n",
      "           1       0.00      0.00      0.00        41\n",
      "\n",
      "    accuracy                           0.95       982\n",
      "   macro avg       0.48      0.50      0.49       982\n",
      "weighted avg       0.92      0.95      0.93       982\n",
      "\n"
     ]
    }
   ],
   "source": [
    "# embaralha dataset e arredonda idades \n",
    "df = shuffle(df)\n",
    "df.age.round()\n",
    "df['age'] = df['age'].apply(np.int64)\n",
    "df.head()\n",
    "\n",
    "# Recortamos as colunas que contém os valores para calculo da distância euclidiana\n",
    "X = df.iloc[:, 1:-1].values\n",
    "\n",
    "# Recortamos as colunas que contém os resultados\n",
    "y = df.iloc[:, 11].values\n",
    "\n",
    "# Cria df de treino\n",
    "X_train, X_test, y_train, y_test = train_test_split(X, y, test_size=0.20)\n",
    "\n",
    "# Escalamos o modelo\n",
    "scaler = StandardScaler()\n",
    "scaler.fit(X_train)\n",
    "\n",
    "X_train = scaler.transform(X_train)\n",
    "X_test = scaler.transform(X_test)\n",
    "\n",
    "# Classificamos o modelo\n",
    "classifier = KNeighborsClassifier(n_neighbors=5)\n",
    "classifier = classifier.fit(X_train, y_train)\n",
    "\n",
    "# Testamos a amostra criada anteriormente\n",
    "y_pred = classifier.predict(X_test)\n",
    "\n",
    "# Criamos a matriz de confusão para avaliar o modelo\n",
    "from sklearn.metrics import classification_report, confusion_matrix\n",
    "clf = pd.crosstab(y_test, y_pred, rownames=['True'], colnames=['Predicted'], margins=True)\n",
    "print(clf)\n",
    "print(classification_report(y_test, y_pred))"
   ]
  },
  {
   "cell_type": "code",
   "execution_count": 7,
   "metadata": {},
   "outputs": [],
   "source": [
    "# importa dataset com undersampling\n",
    "df2 = pd.read_csv (r'/Users/tthia/Desktop/dataset-reduced.csv')"
   ]
  },
  {
   "cell_type": "code",
   "execution_count": 8,
   "metadata": {},
   "outputs": [
    {
     "data": {
      "text/plain": [
       "209"
      ]
     },
     "execution_count": 8,
     "metadata": {},
     "output_type": "execute_result"
    }
   ],
   "source": [
    "# retira os valores NaN de BMI (unica coluna com NaN)\n",
    "df2 = df2.loc[df2['bmi'].notnull()]\n",
    "df2.head()\n",
    "\n",
    "len(df2.loc[df2['stroke']==1])"
   ]
  },
  {
   "cell_type": "code",
   "execution_count": 9,
   "metadata": {},
   "outputs": [],
   "source": [
    "# converter colunas de texto para tipo categorico devido não ser possível gerar o modelo com valores de texto\n",
    "df2['gender']         = df2['gender'].astype('category')\n",
    "df2['ever_married']   = df2['ever_married'].astype('category')\n",
    "df2['work_type']      = df2['work_type'].astype('category')\n",
    "df2['Residence_type'] = df2['Residence_type'].astype('category')\n",
    "df2['smoking_status'] = df2['smoking_status'].astype('category')"
   ]
  },
  {
   "cell_type": "code",
   "execution_count": 10,
   "metadata": {},
   "outputs": [],
   "source": [
    "# adiciona valores númericos para as colunas categorizadas \n",
    "df2['gender']         = df2['gender'].astype('category').cat.codes\n",
    "df2['ever_married']   = df2['ever_married'].astype('category').cat.codes\n",
    "df2['work_type']      = df2['work_type'].astype('category').cat.codes\n",
    "df2['Residence_type'] = df2['Residence_type'].astype('category').cat.codes\n",
    "df2['smoking_status'] = df2['smoking_status'].astype('category').cat.codes"
   ]
  },
  {
   "cell_type": "code",
   "execution_count": 11,
   "metadata": {},
   "outputs": [
    {
     "name": "stdout",
     "output_type": "stream",
     "text": [
      "Predicted   0   1  All\n",
      "True                  \n",
      "0          43   7   50\n",
      "1          19  22   41\n",
      "All        62  29   91\n",
      "              precision    recall  f1-score   support\n",
      "\n",
      "           0       0.69      0.86      0.77        50\n",
      "           1       0.76      0.54      0.63        41\n",
      "\n",
      "    accuracy                           0.71        91\n",
      "   macro avg       0.73      0.70      0.70        91\n",
      "weighted avg       0.72      0.71      0.71        91\n",
      "\n"
     ]
    }
   ],
   "source": [
    "# embaralha dataset e arredonda idades \n",
    "df2 = shuffle(df2)\n",
    "df2.age.round()\n",
    "df2['age'] = df2['age'].apply(np.int64)\n",
    "df2.head()\n",
    "\n",
    "# Recortamos as colunas que contém os valores para calculo da distância euclidiana\n",
    "X = df2.iloc[:, 1:-1].values\n",
    "\n",
    "# Recortamos as colunas que contém os resultados\n",
    "y = df2.iloc[:, 11].values\n",
    "\n",
    "# Cria df de treino\n",
    "X_train, X_test, y_train, y_test = train_test_split(X, y, test_size=0.20)\n",
    "\n",
    "# Escalamos o modelo\n",
    "scaler = StandardScaler()\n",
    "scaler.fit(X_train)\n",
    "\n",
    "X_train = scaler.transform(X_train)\n",
    "X_test = scaler.transform(X_test)\n",
    "\n",
    "# Classificamos o modelo\n",
    "classifier = KNeighborsClassifier(n_neighbors=2)\n",
    "classifier = classifier.fit(X_train, y_train)\n",
    "\n",
    "# Testamos a amostra criada anteriormente\n",
    "y_pred = classifier.predict(X_test)\n",
    "\n",
    "# Criamos a matriz de confusão para avaliar o modelo\n",
    "from sklearn.metrics import classification_report, confusion_matrix\n",
    "clf = pd.crosstab(y_test, y_pred, rownames=['True'], colnames=['Predicted'], margins=True)\n",
    "print(clf)\n",
    "print(classification_report(y_test, y_pred))"
   ]
  },
  {
   "cell_type": "code",
   "execution_count": null,
   "metadata": {},
   "outputs": [],
   "source": []
  }
 ],
 "metadata": {
  "kernelspec": {
   "display_name": "Python 3",
   "language": "python",
   "name": "python3"
  },
  "language_info": {
   "codemirror_mode": {
    "name": "ipython",
    "version": 3
   },
   "file_extension": ".py",
   "mimetype": "text/x-python",
   "name": "python",
   "nbconvert_exporter": "python",
   "pygments_lexer": "ipython3",
   "version": "3.8.5"
  }
 },
 "nbformat": 4,
 "nbformat_minor": 4
}
