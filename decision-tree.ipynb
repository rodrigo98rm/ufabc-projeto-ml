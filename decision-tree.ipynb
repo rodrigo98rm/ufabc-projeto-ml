{
 "metadata": {
  "language_info": {
   "codemirror_mode": {
    "name": "ipython",
    "version": 3
   },
   "file_extension": ".py",
   "mimetype": "text/x-python",
   "name": "python",
   "nbconvert_exporter": "python",
   "pygments_lexer": "ipython3",
   "version": "3.8.6-final"
  },
  "orig_nbformat": 2,
  "kernelspec": {
   "name": "python3",
   "display_name": "Python 3.8.6 64-bit",
   "metadata": {
    "interpreter": {
     "hash": "1ee38ef4a5a9feb55287fd749643f13d043cb0a7addaab2a9c224cbe137c0062"
    }
   }
  }
 },
 "nbformat": 4,
 "nbformat_minor": 2,
 "cells": [
  {
   "cell_type": "code",
   "execution_count": 6,
   "metadata": {},
   "outputs": [
    {
     "output_type": "execute_result",
     "data": {
      "text/plain": [
       "array([1])"
      ]
     },
     "metadata": {},
     "execution_count": 6
    }
   ],
   "source": [
    "from sklearn import tree\n",
    "X = [[0, 0], [1, 1]]\n",
    "Y = [0, 1]\n",
    "clf = tree.DecisionTreeClassifier()\n",
    "clf = clf.fit(X, Y)\n",
    "clf.predict([[0.51, 0.5]])"
   ]
  },
  {
   "cell_type": "code",
   "execution_count": 35,
   "metadata": {},
   "outputs": [
    {
     "output_type": "stream",
     "name": "stdout",
     "text": [
      "Dataset size: 5110\nTraining dataset size: 3577\n"
     ]
    }
   ],
   "source": [
    "import csv\n",
    "import random\n",
    "import math\n",
    "\n",
    "dataset = []\n",
    "instances = []\n",
    "classifiers = []\n",
    "\n",
    "# Read dataset from CSV\n",
    "with open('dataset.csv') as file:\n",
    "    reader = csv.reader(file, delimiter=',')\n",
    "    count = 0\n",
    "    for row in reader:\n",
    "        if count != 0:\n",
    "            dataset.append(row)\n",
    "        count += 1    \n",
    "\n",
    "random.shuffle(dataset)\n",
    "\n",
    "for data in dataset:\n",
    "    # Create instances array, removing the patient id and classifier\n",
    "    instances.append([data[1], data[2], data[3], data[4], data[5], data[6], data[7], data[8], data[9], data[10]])\n",
    "    # Create classifiers array. The index for each item here corresponds to each item on the instances array\n",
    "    classifiers.append(data[11])\n",
    "\n",
    "# Use 70% of the dataset as training data\n",
    "training_amount = math.floor(len(dataset) * 0.7)\n",
    "training_dataset = instances[:training_amount]\n",
    "training_classifiers = classifiers[:training_amount]\n",
    "test_dataset = instances[training_amount:]\n",
    "test_classifiers = classifiers[training_amount:]\n",
    "\n",
    "print(f'Dataset size: {len(dataset)}')\n",
    "print(f'Training dataset size: {len(training_dataset)}')"
   ]
  },
  {
   "cell_type": "code",
   "execution_count": 40,
   "metadata": {},
   "outputs": [
    {
     "output_type": "execute_result",
     "data": {
      "text/plain": [
       "array([[1., 0., 0., ..., 0., 0., 0.],\n",
       "       [1., 0., 0., ..., 0., 0., 1.],\n",
       "       [0., 1., 0., ..., 0., 0., 0.],\n",
       "       ...,\n",
       "       [1., 0., 0., ..., 0., 0., 1.],\n",
       "       [0., 1., 0., ..., 1., 0., 0.],\n",
       "       [0., 1., 0., ..., 0., 0., 0.]])"
      ]
     },
     "metadata": {},
     "execution_count": 40
    }
   ],
   "source": [
    "from sklearn.preprocessing import OneHotEncoder\n",
    "\n",
    "enc = OneHotEncoder(handle_unknown='ignore')\n",
    "enc.fit(instances)\n",
    "enc.transform(training_dataset).toarray()\n",
    "\n",
    "# clf = tree.DecisionTreeClassifier()\n",
    "# clf = clf.fit(training_dataset, training_classifiers)\n",
    "# clf.predict(test_dataset)"
   ]
  },
  {
   "cell_type": "code",
   "execution_count": 34,
   "metadata": {},
   "outputs": [
    {
     "output_type": "stream",
     "name": "stdout",
     "text": [
      "[1, 2]\n[3, 4, 5]\n"
     ]
    }
   ],
   "source": [
    "array = [1,2,3,4,5]\n",
    "\n",
    "print(array[:2])\n",
    "print(array[2:])"
   ]
  },
  {
   "cell_type": "code",
   "execution_count": null,
   "metadata": {},
   "outputs": [],
   "source": []
  }
 ]
}